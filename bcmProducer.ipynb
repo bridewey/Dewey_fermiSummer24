{
 "cells": [
  {
   "cell_type": "code",
   "execution_count": 3,
   "id": "4d3584b3-f8ed-40c0-8866-923736c1d383",
   "metadata": {},
   "outputs": [],
   "source": [
    "import asyncio\n",
    "import random\n",
    "import time\n",
    "import numpy as np\n",
    "import os\n",
    "import sys\n",
    "import pandas as pd\n",
    "\n",
    "from exampleDevice import Device"
   ]
  },
  {
   "cell_type": "markdown",
   "id": "866c1759-77b1-48e7-aded-648146157931",
   "metadata": {},
   "source": [
    "#### Producer: "
   ]
  },
  {
   "cell_type": "code",
   "execution_count": 5,
   "id": "495b95e0-587e-4b59-9fd1-3252407b17ba",
   "metadata": {
    "scrolled": true
   },
   "outputs": [
    {
     "name": "stdout",
     "output_type": "stream",
     "text": [
      "Successfully connected to Redis at socket brianna_redis synchronously.\n"
     ]
    }
   ],
   "source": [
    "device = Device('LINAC:BCM1', 'brianna_redis')\n",
    "await device.initialize()"
   ]
  },
  {
   "cell_type": "code",
   "execution_count": 6,
   "id": "5af7a02c-d9a5-4044-90ba-8e06ea3767ff",
   "metadata": {},
   "outputs": [],
   "source": [
    "# \"stream A\" - just noise\n",
    "data_file_path1 = 'data/tek0002CH2_added_streamA.csv'\n",
    "    \n",
    "# \"stream B\" - signal and noise\n",
    "data_file_path2 = 'data/tek0002CH2_added_streamB.csv'"
   ]
  },
  {
   "cell_type": "code",
   "execution_count": 4,
   "id": "3751cd81-003a-48eb-88c8-806e9a98c7cc",
   "metadata": {},
   "outputs": [],
   "source": [
    "numpy_data1 = np.genfromtxt(data_file_path1, dtype=np.int16)"
   ]
  },
  {
   "cell_type": "code",
   "execution_count": 5,
   "id": "c08af849-bb89-4516-9249-c192c14ad866",
   "metadata": {},
   "outputs": [],
   "source": [
    "numpy_data2 = np.genfromtxt(data_file_path2, dtype=np.int16)"
   ]
  },
  {
   "cell_type": "code",
   "execution_count": 6,
   "id": "fb195379-29a8-44ce-988a-31d3ffff81d0",
   "metadata": {},
   "outputs": [],
   "source": [
    "stream_key_raw = f\"{device.base_key}:RAW_DATA\" \n",
    "stream_key_noise = f\"{device.base_key}:RAW_DATA_NOISE\"\n",
    "binary_field = '_'\n",
    "data_type_field = 'TYPE'\n",
    "data_type = 'INT16'"
   ]
  },
  {
   "cell_type": "markdown",
   "id": "d60b3c40-a96e-43da-ad15-12738e056aab",
   "metadata": {},
   "source": [
    "##### Raw data (from numpy_data1) - stream A"
   ]
  },
  {
   "cell_type": "code",
   "execution_count": 7,
   "id": "51219cee-5ff4-4bff-8d1f-d41fd419ffb3",
   "metadata": {},
   "outputs": [],
   "source": [
    "# raw data, aka \"stream A\"\n",
    "data_point_raw = {binary_field: numpy_data1, data_type_field: data_type}"
   ]
  },
  {
   "cell_type": "code",
   "execution_count": 8,
   "id": "40896106-ece2-40fd-8d92-7844b9351e2f",
   "metadata": {},
   "outputs": [],
   "source": [
    "await device.redis_adapter.streamAdd(stream_key_raw, data_point_raw, maxlen=10)"
   ]
  },
  {
   "cell_type": "code",
   "execution_count": 9,
   "id": "6ec5de4c-862a-4731-bb86-f53832c8c557",
   "metadata": {},
   "outputs": [],
   "source": [
    "messagesA = await device.redis_adapter.streamReadRange( stream_key_raw, start='+', end='-', count=1, dtype=np.int16)"
   ]
  },
  {
   "cell_type": "code",
   "execution_count": 10,
   "id": "ec04cc99-8077-460e-b075-033791d4fb4f",
   "metadata": {},
   "outputs": [
    {
     "name": "stdout",
     "output_type": "stream",
     "text": [
      "[('LINAC:BCM1:RAW_DATA', b'1721752582918-0', {'_': array([-1, 70, 43, ..., -1, -1, -1], dtype=int16), b'TYPE': b'INT16'})]\n"
     ]
    }
   ],
   "source": [
    "print(messagesA)\n"
   ]
  },
  {
   "cell_type": "code",
   "execution_count": 11,
   "id": "58b01cdd-59e0-42d6-9986-b79dcdf0b1d4",
   "metadata": {},
   "outputs": [],
   "source": [
    "messagesA = await device.redis_adapter.streamReadRange( stream_key_raw, start='+', end='-', count=3, dtype=np.int16)"
   ]
  },
  {
   "cell_type": "code",
   "execution_count": 12,
   "id": "5cf30015-aa74-4cfc-a0c4-0acbf9901684",
   "metadata": {},
   "outputs": [
    {
     "name": "stdout",
     "output_type": "stream",
     "text": [
      "[('LINAC:BCM1:RAW_DATA', b'1721752582918-0', {'_': array([-1, 70, 43, ..., -1, -1, -1], dtype=int16), b'TYPE': b'INT16'}), ('LINAC:BCM1:RAW_DATA', b'1721668060848-0', {'_': array([-1, 70, 43, ..., -1, -1, -1], dtype=int16), b'TYPE': b'INT16'}), ('LINAC:BCM1:RAW_DATA', b'1721667882340-0', {'_': array([-1, 70, 43, ..., -1, -1, -1], dtype=int16), b'TYPE': b'INT16'})]\n"
     ]
    }
   ],
   "source": [
    "print(messagesA)"
   ]
  },
  {
   "cell_type": "code",
   "execution_count": 13,
   "id": "6123ebe5-d8db-4227-a77e-77b035a25160",
   "metadata": {},
   "outputs": [],
   "source": [
    "messageA = messagesA[0]"
   ]
  },
  {
   "cell_type": "code",
   "execution_count": 14,
   "id": "58283d52-8f34-4f82-8d7b-f9517fbfb779",
   "metadata": {},
   "outputs": [],
   "source": [
    "streamA, timeA, dataA = messageA\n"
   ]
  },
  {
   "cell_type": "code",
   "execution_count": 15,
   "id": "aaa12402-95a0-41ab-8a58-51bae000b2ef",
   "metadata": {},
   "outputs": [
    {
     "name": "stdout",
     "output_type": "stream",
     "text": [
      "{'_': array([-1, 70, 43, ..., -1, -1, -1], dtype=int16), b'TYPE': b'INT16'}\n"
     ]
    }
   ],
   "source": [
    "print(dataA)"
   ]
  },
  {
   "cell_type": "markdown",
   "id": "cea5212b-9b2d-4799-9de3-7b795e6f20a1",
   "metadata": {},
   "source": [
    "##### Noise data (from numpy_data2) - stream B"
   ]
  },
  {
   "cell_type": "code",
   "execution_count": 16,
   "id": "08b87a88-400d-4777-8b7d-0996614523d7",
   "metadata": {},
   "outputs": [],
   "source": [
    "# noise data, aka \"stream B\"\n",
    "data_point_noise = {binary_field: numpy_data2, data_type_field: data_type}"
   ]
  },
  {
   "cell_type": "code",
   "execution_count": 17,
   "id": "0d6581ad-9506-4d2e-8095-7cd65cded3f1",
   "metadata": {},
   "outputs": [],
   "source": [
    "await device.redis_adapter.streamAdd(stream_key_noise, data_point_noise, maxlen=10)"
   ]
  },
  {
   "cell_type": "code",
   "execution_count": 18,
   "id": "ef27ab98-7691-42e9-b069-c158e376c5d9",
   "metadata": {},
   "outputs": [],
   "source": [
    "messagesB = await device.redis_adapter.streamReadRange( stream_key_noise, start='+', end='-', count=1, dtype=np.int16)"
   ]
  },
  {
   "cell_type": "code",
   "execution_count": 19,
   "id": "0ac147c3-8fb4-4bc6-a5ec-4c34629a48b2",
   "metadata": {},
   "outputs": [
    {
     "name": "stdout",
     "output_type": "stream",
     "text": [
      "[('LINAC:BCM1:RAW_DATA_NOISE', b'1721752587288-0', {'_': array([ -1, 131, 164, ...,  -1,  -1,  -1], dtype=int16), b'TYPE': b'INT16'})]\n"
     ]
    }
   ],
   "source": [
    "print(messagesB)"
   ]
  },
  {
   "cell_type": "code",
   "execution_count": 20,
   "id": "8d376971-b4de-4f5a-898b-9a9b824be542",
   "metadata": {},
   "outputs": [],
   "source": [
    "messagesB = await device.redis_adapter.streamReadRange( stream_key_noise, start='+', end='-', count=3, dtype=np.int16)"
   ]
  },
  {
   "cell_type": "code",
   "execution_count": 21,
   "id": "6a9248aa-4e90-4881-9a38-c280932084d8",
   "metadata": {},
   "outputs": [
    {
     "name": "stdout",
     "output_type": "stream",
     "text": [
      "[('LINAC:BCM1:RAW_DATA_NOISE', b'1721752587288-0', {'_': array([ -1, 131, 164, ...,  -1,  -1,  -1], dtype=int16), b'TYPE': b'INT16'}), ('LINAC:BCM1:RAW_DATA_NOISE', b'1721667889243-0', {'_': array([ -1, 131, 164, ...,  -1,  -1,  -1], dtype=int16), b'TYPE': b'INT16'}), ('LINAC:BCM1:RAW_DATA_NOISE', b'1721667782856-0', {'_': array([ -1, 131, 164, ...,  -1,  -1,  -1], dtype=int16), b'TYPE': b'INT16'})]\n"
     ]
    }
   ],
   "source": [
    "print(messagesB)"
   ]
  },
  {
   "cell_type": "code",
   "execution_count": 22,
   "id": "124fa8ef-c0c9-4dd1-9f6b-4decafa06cd2",
   "metadata": {},
   "outputs": [],
   "source": [
    "messageB = messagesB[0]"
   ]
  },
  {
   "cell_type": "code",
   "execution_count": 23,
   "id": "71c1e019-7cc1-448f-b46d-8823f82ff18d",
   "metadata": {},
   "outputs": [],
   "source": [
    "streamB, timeB, dataB = messageB\n"
   ]
  },
  {
   "cell_type": "markdown",
   "id": "3f5b8cf3-55a3-479e-8e37-4bd8ad4fb4e4",
   "metadata": {},
   "source": [
    "#### Consumer: "
   ]
  },
  {
   "cell_type": "markdown",
   "id": "681a2e34-c98c-47f7-9a3c-5f070203e9b0",
   "metadata": {},
   "source": [
    "#### Process Data (function)"
   ]
  },
  {
   "cell_type": "code",
   "execution_count": 24,
   "id": "20c343d7-98be-4ede-a0f0-3bca9b2531eb",
   "metadata": {},
   "outputs": [
    {
     "name": "stdout",
     "output_type": "stream",
     "text": [
      "         0\n",
      "0       -1\n",
      "1       70\n",
      "2       43\n",
      "3       37\n",
      "4      155\n",
      "...    ...\n",
      "87360   -1\n",
      "87361   -1\n",
      "87362   -1\n",
      "87363   -1\n",
      "87364   -1\n",
      "\n",
      "[87365 rows x 1 columns]\n",
      "         0\n",
      "0       -1\n",
      "1      131\n",
      "2      164\n",
      "3      153\n",
      "4      208\n",
      "...    ...\n",
      "87360   -1\n",
      "87361   -1\n",
      "87362   -1\n",
      "87363   -1\n",
      "87364   -1\n",
      "\n",
      "[87365 rows x 1 columns]\n"
     ]
    }
   ],
   "source": [
    "df_streamA = pd.DataFrame(dataA['_'])\n",
    "print(df_streamA)\n",
    "df_streamB = pd.DataFrame(dataB['_'])\n",
    "print(df_streamB)"
   ]
  },
  {
   "cell_type": "code",
   "execution_count": 25,
   "id": "d7cb1ff9-8e10-44e9-b12d-77ece6b032bb",
   "metadata": {},
   "outputs": [],
   "source": [
    "# step 1 - subtraction\n",
    "df_subtraction = df_streamA - df_streamB\n",
    "df_subtraction = df_subtraction.iloc[2400:3401]\n",
    "\n",
    "#def process_signal(df_streamA, df_streamB, sampling_rate=100000, f_corner=70, window_size=3):\n",
    "def process_signal(df_subtraction, sampling_rate=100000, f_corner=70, window_size=3):\n",
    "    \n",
    "    # step 2 - droop correction\n",
    "    time_step = 1 / sampling_rate \n",
    "    droopCorr = 2 * np.pi * f_corner\n",
    "    num_samples = len(df_subtraction)\n",
    "    integrated = 0.0\n",
    "    droopCorr_signal = pd.Series(index=df_subtraction.index, dtype=float)\n",
    "\n",
    "    for i in range(num_samples - 1): # loop up to num_samples - 1 to avoid accessing out of bounds\n",
    "        integrated += df_subtraction.iloc[i].iloc[0] * time_step\n",
    "        droopCorr_signal[i] = df_subtraction.iloc[i].iloc[0]  + integrated * droopCorr\n",
    "\n",
    "    # if not along origin on y axis, shift signal downward\n",
    "    min_value = droopCorr_signal.min()\n",
    "    droopCorr_shifted_signal = droopCorr_signal - min_value\n",
    "\n",
    "    # step 4 - mode filter\n",
    "    mode_filtered = droopCorr_signal.rolling(window=window_size, min_periods=1).apply(lambda x: x.mode()[0])\n",
    "\n",
    "    # step 5 - integrate\n",
    "    integral_mode = mode_filtered.sum()\n",
    "\n",
    "    \"\"\" plots weird so nvm\n",
    "    # Plotting droopCorr_signal\n",
    "    plt.figure(figsize=(10, 6))\n",
    "    plt.plot(df_subtraction.index, df_subtraction, marker='.', linestyle='-', color='b', label='Subtracted Signal')\n",
    "    plt.plot(droopCorr_signal.index, droopCorr_signal, marker='.', linestyle='-', color='k', label='Droop Corrected Signal')\n",
    "    plt.plot(mode_filtered.index, mode_filtered, marker='.', linestyle='-', color='r', label='Mode Filtered Signal')\n",
    "    plt.title('Droop Correction and Mode Filtering')\n",
    "    plt.xlabel('Sample Number')\n",
    "    plt.ylabel('Signal Value')\n",
    "    plt.xlim(2400, 2800)\n",
    "    plt.ylim(-1000, 8000)\n",
    "    plt.legend()\n",
    "    plt.grid(True)\n",
    "    plt.show()\n",
    "    \"\"\"\n",
    "\n",
    "    # will need to stream this value back to redis\n",
    "    return integral_mode\n",
    "    return df_streamA, df_streamB, df_subtraction, droopCorr_signal, droopCorr_shifted_signal, mode_filtered, integral_mode"
   ]
  },
  {
   "cell_type": "code",
   "execution_count": 26,
   "id": "6cb497f6-9574-4087-8d15-f3e402c692bf",
   "metadata": {},
   "outputs": [
    {
     "name": "stdout",
     "output_type": "stream",
     "text": [
      "Integral of mode_filtered: 299480.66849806893\n"
     ]
    }
   ],
   "source": [
    "integral_mode = process_signal(df_subtraction)\n",
    "print(\"Integral of mode_filtered:\", integral_mode)"
   ]
  },
  {
   "cell_type": "markdown",
   "id": "6097a148-3fb0-4ec0-b111-aaef9c3c449c",
   "metadata": {},
   "source": [
    "Return value of integral_mode back to redis: "
   ]
  },
  {
   "cell_type": "code",
   "execution_count": 27,
   "id": "a3935133-b95e-4dfb-8d6a-cf72b50491b0",
   "metadata": {},
   "outputs": [],
   "source": [
    "# return value to redis\n",
    "stream_key_processed = f\"{device.base_key}:PROCESSED_DATA\"\n",
    "data_point_processed = {\n",
    "    binary_field: np.array([integral_mode], dtype=np.int16),\n",
    "    data_type_field: data_type  # Assuming data_type is defined as 'INT16'\n",
    "}"
   ]
  },
  {
   "cell_type": "code",
   "execution_count": 28,
   "id": "98f29892-191b-4f0b-80a7-3edfecc5dc21",
   "metadata": {},
   "outputs": [],
   "source": [
    "await device.redis_adapter.streamAdd(stream_key_processed, data_point_processed, maxlen=10)"
   ]
  },
  {
   "cell_type": "code",
   "execution_count": 29,
   "id": "17439a6e-cde4-4ad9-ac53-52099b3aa9d5",
   "metadata": {},
   "outputs": [
    {
     "name": "stdout",
     "output_type": "stream",
     "text": [
      "[('LINAC:BCM1:PROCESSED_DATA', b'1721752608845-0', {'_': array([-28200], dtype=int16), b'TYPE': b'INT16'})]\n"
     ]
    }
   ],
   "source": [
    "messagesC = await device.redis_adapter.streamReadRange( stream_key_processed, start='+', end='-', count=1, dtype=np.int16)\n",
    "print(messagesC)"
   ]
  },
  {
   "cell_type": "code",
   "execution_count": 30,
   "id": "188ee54c-8a0d-4faa-b722-1d9dc0149379",
   "metadata": {},
   "outputs": [
    {
     "name": "stdout",
     "output_type": "stream",
     "text": [
      "[('LINAC:BCM1:PROCESSED_DATA', b'1721752608845-0', {'_': array([-28200], dtype=int16), b'TYPE': b'INT16'}), ('LINAC:BCM1:PROCESSED_DATA', b'1721667907654-0', {'_': array([-28200], dtype=int16), b'TYPE': b'INT16'}), ('LINAC:BCM1:PROCESSED_DATA', b'1721406285694-0', {'_': array([-28200], dtype=int16), b'TYPE': b'INT16'})]\n"
     ]
    }
   ],
   "source": [
    "messagesC = await device.redis_adapter.streamReadRange( stream_key_processed, start='+', end='-', count=3, dtype=np.int16)\n",
    "print(messagesC)"
   ]
  },
  {
   "cell_type": "code",
   "execution_count": 31,
   "id": "e93f49e8-0cc8-4caf-9cf5-5400d20ad0f3",
   "metadata": {},
   "outputs": [
    {
     "name": "stdout",
     "output_type": "stream",
     "text": [
      "{'_': array([-28200], dtype=int16), b'TYPE': b'INT16'}\n"
     ]
    }
   ],
   "source": [
    "messageC = messagesC[0]\n",
    "streamC, timeC, dataC = messageC\n",
    "print(dataC)"
   ]
  },
  {
   "cell_type": "code",
   "execution_count": null,
   "id": "c50d8e26-f81e-4b56-95be-e1914e7e036a",
   "metadata": {},
   "outputs": [],
   "source": []
  }
 ],
 "metadata": {
  "kernelspec": {
   "display_name": "Python 3 (ipykernel)",
   "language": "python",
   "name": "python3"
  },
  "language_info": {
   "codemirror_mode": {
    "name": "ipython",
    "version": 3
   },
   "file_extension": ".py",
   "mimetype": "text/x-python",
   "name": "python",
   "nbconvert_exporter": "python",
   "pygments_lexer": "ipython3",
   "version": "3.11.9"
  }
 },
 "nbformat": 4,
 "nbformat_minor": 5
}
